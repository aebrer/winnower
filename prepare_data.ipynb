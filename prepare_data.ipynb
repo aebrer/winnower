{
 "cells": [
  {
   "cell_type": "code",
   "execution_count": null,
   "metadata": {
    "collapsed": true
   },
   "outputs": [],
   "source": [
    "%matplotlib inline\n",
    "import cv2\n",
    "import sys\n",
    "import numpy as np\n",
    "import os\n",
    "from skimage import io\n",
    "from scipy import misc\n",
    "import matplotlib.pyplot as plt\n",
    "from skimage.transform import resize"
   ]
  },
  {
   "cell_type": "code",
   "execution_count": 5,
   "metadata": {
    "collapsed": true
   },
   "outputs": [],
   "source": [
    "img_size = 100\n",
    "faces_in_image_limit = 1"
   ]
  },
  {
   "cell_type": "code",
   "execution_count": 6,
   "metadata": {
    "collapsed": true
   },
   "outputs": [],
   "source": [
    "def extract_faces(img):\n",
    "    face_cascade = cv2.CascadeClassifier('utils/haarcascade_frontalface_default.xml')\n",
    "    eye_cascade = cv2.CascadeClassifier('utils/haarcascade_eye.xml')\n",
    "    imageDataFin = []\n",
    "    \n",
    "    gray = cv2.cvtColor(img, cv2.COLOR_BGR2GRAY)\n",
    "    faces = face_cascade.detectMultiScale(gray)\n",
    "    \n",
    "    for(x, y, w, h) in faces:\n",
    "        roi_gray = gray[y:y+h, x:x+w]\n",
    "        roi_color = img[y:y+h, x:x+w]\n",
    "        \n",
    "        eyes = eye_cascade.detectMultiScale(roi_gray)\n",
    "        \n",
    "        if len(eyes) >= 1:\n",
    "            im = resize(roi_color, (img_size, img_size))\n",
    "            imageDataFin.append(im)\n",
    "            \n",
    "    if len(imageDataFin) > faces_in_image_limit:\n",
    "        return []\n",
    "    else:\n",
    "        return imageDataFin"
   ]
  },
  {
   "cell_type": "code",
   "execution_count": 7,
   "metadata": {
    "collapsed": true
   },
   "outputs": [],
   "source": [
    "def print_progress(total, current):\n",
    "    sys.stdout.write('\\rProgress: %.1f%%' % ((current/total)*100))\n",
    "    sys.stdout.flush()\n",
    "    \n",
    "def folder_count(path):\n",
    "    return len([name for name in path if not name[0] == \".\"])"
   ]
  },
  {
   "cell_type": "code",
   "execution_count": 8,
   "metadata": {
    "collapsed": false,
    "scrolled": true
   },
   "outputs": [
    {
     "name": "stdout",
     "output_type": "stream",
     "text": [
      "Processing disliked images\n",
      "Progress: 66.7%"
     ]
    },
    {
     "name": "stderr",
     "output_type": "stream",
     "text": [
      "/usr/local/lib/python3.6/site-packages/skimage/transform/_warps.py:84: UserWarning: The default mode, 'constant', will be changed to 'reflect' in skimage 0.15.\n",
      "  warn(\"The default mode, 'constant', will be changed to 'reflect' in \"\n"
     ]
    },
    {
     "name": "stdout",
     "output_type": "stream",
     "text": [
      "\n",
      "Processing of dislikes images complete\n",
      "Processing liked images\n",
      "Progress: 25.0%"
     ]
    },
    {
     "name": "stderr",
     "output_type": "stream",
     "text": [
      "/usr/local/lib/python3.6/site-packages/skimage/transform/_warps.py:84: UserWarning: The default mode, 'constant', will be changed to 'reflect' in skimage 0.15.\n",
      "  warn(\"The default mode, 'constant', will be changed to 'reflect' in \"\n"
     ]
    },
    {
     "name": "stdout",
     "output_type": "stream",
     "text": [
      "Progress: 75.0%"
     ]
    },
    {
     "name": "stderr",
     "output_type": "stream",
     "text": [
      "/usr/local/lib/python3.6/site-packages/skimage/transform/_warps.py:84: UserWarning: The default mode, 'constant', will be changed to 'reflect' in skimage 0.15.\n",
      "  warn(\"The default mode, 'constant', will be changed to 'reflect' in \"\n"
     ]
    },
    {
     "name": "stdout",
     "output_type": "stream",
     "text": [
      "\n",
      "Processing of likes images complete\n",
      "Image processing complete! Hurray!\n"
     ]
    },
    {
     "name": "stderr",
     "output_type": "stream",
     "text": [
      "/usr/local/lib/python3.6/site-packages/skimage/transform/_warps.py:84: UserWarning: The default mode, 'constant', will be changed to 'reflect' in skimage 0.15.\n",
      "  warn(\"The default mode, 'constant', will be changed to 'reflect' in \"\n"
     ]
    }
   ],
   "source": [
    "images = []\n",
    "labels = []\n",
    "data_path = 'data'\n",
    "\n",
    "dislikes_folder_path = os.listdir(os.path.join(data_path, 'dislikes'))\n",
    "likes_folder_path = os.listdir(os.path.join(data_path, 'likes'))\n",
    "\n",
    "def process_folder(path, like_type):\n",
    "    folder_number_of_files = folder_count(path)\n",
    "    files_processed = 0\n",
    "    \n",
    "    for img in path:\n",
    "        print_progress(folder_number_of_files, files_processed)\n",
    "        if not img.startswith('.'):\n",
    "            faces = extract_faces(cv2.imread(os.path.join(data_path, os.path.join(like_type, img))))\n",
    "            for face in faces:\n",
    "                images.append(face)\n",
    "                if like_type == 'likes':\n",
    "                    labels.append(1)\n",
    "                else:\n",
    "                    labels.append(0)\n",
    "            files_processed += 1\n",
    "    print(\"\\nProcessing of {} images complete\".format(like_type))\n",
    "\n",
    "print(\"Processing disliked images\")\n",
    "process_folder(dislikes_folder_path, \"dislikes\")\n",
    "print(\"Processing liked images\")\n",
    "process_folder(likes_folder_path, \"likes\")\n",
    "\n",
    "images = np.array(images)\n",
    "labels = np.array(labels)\n",
    "print(\"Image processing complete! Hurray!\")"
   ]
  },
  {
   "cell_type": "code",
   "execution_count": 10,
   "metadata": {
    "collapsed": false
   },
   "outputs": [
    {
     "name": "stdout",
     "output_type": "stream",
     "text": [
      "(4, 100, 100, 3)\n",
      "(4,)\n",
      "Saving processed_images.npy\n",
      "Saving processed_labels.npy\n"
     ]
    }
   ],
   "source": [
    "print(images.shape)\n",
    "print(labels.shape)\n",
    "\n",
    "def save_file(data, file_path_name):\n",
    "    print(\"Saving {}.npy\".format(file_path_name))\n",
    "    np.save(file_path_name, data)\n",
    "    \n",
    "save_file(images, \"processed_images\")\n",
    "save_file(labels, \"processed_labels\")"
   ]
  },
  {
   "cell_type": "code",
   "execution_count": null,
   "metadata": {
    "collapsed": true
   },
   "outputs": [],
   "source": [
    ""
   ]
  }
 ],
 "metadata": {
  "kernelspec": {
   "display_name": "Python 3",
   "language": "python",
   "name": "python3"
  },
  "language_info": {
   "codemirror_mode": {
    "name": "ipython",
    "version": 3.0
   },
   "file_extension": ".py",
   "mimetype": "text/x-python",
   "name": "python",
   "nbconvert_exporter": "python",
   "pygments_lexer": "ipython3",
   "version": "3.6.0"
  }
 },
 "nbformat": 4,
 "nbformat_minor": 0
}